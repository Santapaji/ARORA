{
  "nbformat": 4,
  "nbformat_minor": 0,
  "metadata": {
    "colab": {
      "provenance": [],
      "authorship_tag": "ABX9TyMUDDPym5ZvOOeC65TSmYY9",
      "include_colab_link": true
    },
    "kernelspec": {
      "name": "python3",
      "display_name": "Python 3"
    },
    "language_info": {
      "name": "python"
    },
    "accelerator": "TPU"
  },
  "cells": [
    {
      "cell_type": "markdown",
      "metadata": {
        "id": "view-in-github",
        "colab_type": "text"
      },
      "source": [
        "<a href=\"https://colab.research.google.com/github/Santapaji/ARORA/blob/main/TASK_1.ipynb\" target=\"_parent\"><img src=\"https://colab.research.google.com/assets/colab-badge.svg\" alt=\"Open In Colab\"/></a>"
      ]
    },
    {
      "cell_type": "code",
      "execution_count": 3,
      "metadata": {
        "colab": {
          "base_uri": "https://localhost:8080/"
        },
        "id": "fKir1hP8vOEu",
        "outputId": "9b9b1fda-8af3-43aa-998e-71fc3f9916e6"
      },
      "outputs": [
        {
          "output_type": "stream",
          "name": "stdout",
          "text": [
            "(137500, 3)\n",
            "Index(['unix Timestamp', 'ACC X', 'Light'], dtype='object')\n"
          ]
        }
      ],
      "source": [
        "import pandas as pd\n",
        "from sklearn.model_selection import train_test_split\n",
        "from sklearn.preprocessing import OneHotEncoder\n",
        "from tensorflow.keras.models import Sequential\n",
        "from tensorflow.keras.layers import Dense, Conv1D, MaxPooling1D, Flatten\n",
        "from google.colab import drive\n",
        "from io import StringIO\n",
        "import sys\n",
        "# Loading the data from the CSV files\n",
        "data = pd.read_csv(\"/content/sample_data/data.csv\")\n",
        "labels = pd.read_csv(\"/content/sample_data/label.csv\")\n",
        "\n",
        "# Printing the shape and columns of the data DataFrame to understand its structure\n",
        "print(data.shape)\n",
        "print(data.columns)\n",
        "\n",
        "# Droping the 'unix Timestamp' column as it is not needed for our analysis/model\n",
        "data = data.drop(columns=['unix Timestamp'])\n",
        "\n",
        "# Extracting the first 137500 rows of the data.\n",
        "relevant_data = data.iloc[:137500]\n",
        "\n",
        "# Reshaping the relevant data to have 55 samples, each of shape (2500, 2) as given in task 1 description\n",
        "X_data = relevant_data.values.reshape(55, 2500, 2)\n"
      ]
    },
    {
      "cell_type": "code",
      "source": [],
      "metadata": {
        "id": "bC1IATWlF4hT"
      },
      "execution_count": null,
      "outputs": []
    },
    {
      "cell_type": "code",
      "source": [
        "# Splitting data into training and validation sets\n",
        "X_train, X_val, y_train, y_val = train_test_split(X_data, labels, test_size=0.2)\n",
        "\n",
        "# Importing necessary layers and utilities\n",
        "from tensorflow.keras.layers import Dropout, BatchNormalization\n",
        "from keras.utils import to_categorical\n",
        "\n",
        "# Encoding labels into one-hot format\n",
        "y_train_encoded = to_categorical(y_train, num_classes=55)\n",
        "y_val_encoded = to_categorical(y_val, num_classes=55)\n",
        "\n",
        "# Initializing the model\n",
        "model = Sequential()\n",
        "\n",
        "# Adding the first convolutional layer\n",
        "model.add(Conv1D(64, kernel_size=3, activation='relu', padding='same', input_shape=(2500, 2)))\n",
        "model.add(BatchNormalization())\n",
        "model.add(MaxPooling1D(2))\n",
        "model.add(Dropout(0.25))\n",
        "\n",
        "# Adding the second convolutional layer\n",
        "model.add(Conv1D(128, kernel_size=3, activation='relu', padding='same'))\n",
        "model.add(BatchNormalization())\n",
        "model.add(MaxPooling1D(2))\n",
        "model.add(Dropout(0.25))\n",
        "\n",
        "# Adding the third convolutional layer\n",
        "model.add(Conv1D(256, kernel_size=3, activation='relu', padding='same'))\n",
        "model.add(BatchNormalization())\n",
        "model.add(MaxPooling1D(2))\n",
        "model.add(Dropout(0.25))\n",
        "\n",
        "# Adding a fully connected layer\n",
        "model.add(Flatten())\n",
        "model.add(Dense(256, activation='relu'))\n",
        "model.add(Dropout(0.5))\n",
        "model.add(Dense(55, activation='softmax'))\n",
        "\n",
        "# Compiling the model with the specified loss function and optimizer\n",
        "#model.compile(optimizer='adam', loss='sparse_categorical_crossentropy', metrics=['accuracy'])\n",
        "\n",
        "# Re-compiling and training the model (Note: Compiling twice seems redundant and could be improved)\n",
        "model.compile(optimizer='adam', loss='categorical_crossentropy', metrics=['accuracy'])\n",
        "\n",
        "\n",
        "# Redirecting stdout to capture model outputs\n",
        "old_stdout = sys.stdout\n",
        "sys.stdout = mystdout = StringIO()\n",
        "\n",
        "# Displaying the model summary\n",
        "model.summary()\n",
        "\n",
        "# Training the model and capturing the epoch details\n",
        "#history = model.fit(X_train, y_train_encoded, validation_data=(X_val, y_val_encoded), epochs=10)\n",
        "model.fit(X_train, y_train_encoded, validation_data=(X_val, y_val_encoded), epochs=10)\n",
        "# Restoring the standard output to the original state\n",
        "sys.stdout = old_stdout\n",
        "\n",
        "# Extracting the model summary and training outputs\n",
        "outputs_str = mystdout.getvalue()\n",
        "\n",
        "# Saving the captured outputs to a text file\n",
        "with open(\"output.txt\", \"w\") as f:\n",
        "    f.write(outputs_str)\n"
      ],
      "metadata": {
        "id": "gul_gePZ0vf5"
      },
      "execution_count": 8,
      "outputs": []
    }
  ]
}